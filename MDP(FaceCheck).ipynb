{
  "cells": [
    {
      "cell_type": "markdown",
      "metadata": {
        "id": "view-in-github",
        "colab_type": "text"
      },
      "source": [
        "<a href=\"https://colab.research.google.com/github/Kanghb0628/Project_MDP/blob/main/MDP(FaceCheck).ipynb\" target=\"_parent\"><img src=\"https://colab.research.google.com/assets/colab-badge.svg\" alt=\"Open In Colab\"/></a>"
      ]
    },
    {
      "cell_type": "code",
      "execution_count": null,
      "metadata": {
        "id": "fqMxavJrmvj5"
      },
      "outputs": [],
      "source": [
        "!git clone https://github.com/ultralytics/yolov5  # clone repo\n",
        "!pip install -r yolov5/requirements.txt  # install dependencies"
      ]
    },
    {
      "cell_type": "code",
      "execution_count": null,
      "metadata": {
        "id": "J68P_GvePDSl"
      },
      "outputs": [],
      "source": [
        "!pip install roboflow\n",
        "\n",
        "from roboflow import Roboflow\n",
        "rf = Roboflow(api_key=\"your api key\")\n",
        "project = rf.workspace(\"your name\").project(\"your project name\")\n",
        "version = project.version(\"your version\")\n",
        "dataset = version.download(\"yolov5\")"
      ]
    },
    {
      "cell_type": "code",
      "execution_count": null,
      "metadata": {
        "id": "whuaU4-ciEzb"
      },
      "outputs": [],
      "source": [
        "from glob import glob\n",
        "train_img_list = glob('/content/your project name/train/images/*.jpg')\n",
        "valid_img_list = glob('/content/your project name/valid/images/*.jpg')\n",
        "test_img_list = glob('/content/your project name/test/images/*.jpg')\n",
        "print(len(train_img_list), len(valid_img_list), len(test_img_list))"
      ]
    },
    {
      "cell_type": "code",
      "execution_count": null,
      "metadata": {
        "id": "19eBQX_OinL5"
      },
      "outputs": [],
      "source": [
        "!python /content/yolov5/train.py --img 70 --batch 10 --epochs 115 --data /content/your project name/data.yaml --weights yolov5x.pt --name result_jetbot --cfg /content/yolov5/models/yolov5x.yaml"
      ]
    },
    {
      "cell_type": "code",
      "execution_count": null,
      "metadata": {
        "id": "dUcobtivp8Sm"
      },
      "outputs": [],
      "source": [
        "!python /content/yolov5/detect.py --source=/content/filename --weights=/content/yolov5/runs/train/result_jetbot/weights/best.pt"
      ]
    }
  ],
  "metadata": {
    "colab": {
      "provenance": [],
      "mount_file_id": "1Vdf77X5Xr5p7yzVXVVl0keVV5C46H_Dd",
      "authorship_tag": "ABX9TyP4pLDfmxNu2Ua/d8CFcRFI",
      "include_colab_link": true
    },
    "kernelspec": {
      "display_name": "Python 3",
      "name": "python3"
    },
    "language_info": {
      "name": "python"
    }
  },
  "nbformat": 4,
  "nbformat_minor": 0
}